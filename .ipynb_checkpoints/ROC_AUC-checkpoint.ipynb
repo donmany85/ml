{
 "cells": [
  {
   "cell_type": "markdown",
   "id": "1774d84c",
   "metadata": {},
   "source": [
    "\n",
    "### [`sklearn.metrics`](https://scikit-learn.org/1.1/modules/classes.html#module-sklearn.metrics \"sklearn.metrics\").roc_curve\n",
    "** sklearn.metrics.roc_curve(_y_true_,  _y_score_,  _*_,  _pos_label=None_,  _sample_weight=None_,  _drop_intermediate=True_)[[source]](https://github.com/scikit-learn/scikit-learn/blob/f3f51f9b6/sklearn/metrics/_ranking.py#L892)[](https://scikit-learn.org/1.1/modules/generated/sklearn.metrics.roc_curve.html?highlight=roc#sklearn.metrics.roc_curve \"Permalink to this definition\")\n",
    "**fpr**\n",
    "ndarray of shape (>2,)\n",
    "\n",
    "Increasing false positive rates such that element i is the false positive rate of predictions with score >=  `thresholds[i]`.\n",
    "\n",
    "**tpr**\n",
    "ndarray of shape (>2,)\n",
    "\n",
    "Increasing true positive rates such that element  `i`  is the true positive rate of predictions with score >=  `thresholds[i]`.\n",
    "\n",
    "**thresholds**\n",
    "ndarray of shape = (n_thresholds,)\n",
    "\n",
    "Decreasing thresholds on the decision function used to compute fpr and tpr.  `thresholds[0]`  represents no instances being predicted and is arbitrarily set to  `max(y_score)  +  1`."
   ]
  },
  {
   "cell_type": "code",
   "execution_count": 55,
   "id": "e048b313",
   "metadata": {
    "ExecuteTime": {
     "end_time": "2023-01-31T09:36:04.667240Z",
     "start_time": "2023-01-31T09:36:04.572269Z"
    }
   },
   "outputs": [
    {
     "name": "stdout",
     "output_type": "stream",
     "text": [
      "[[0.90004657 0.09995343]\n",
      " [0.56777228 0.43222772]\n",
      " [0.89778678 0.10221322]]\n",
      "[0 0 0]\n"
     ]
    }
   ],
   "source": [
    "import pandas as pd\n",
    "import matplotlib.pyplot as plt\n",
    "from sklearn.preprocessing import LabelEncoder\n",
    "from sklearn.linear_model import LogisticRegression\n",
    "\n",
    "\n",
    "tt_df = pd.read_csv('./datasets/titanic_train.csv')\n",
    "tt_test_df = pd.read_csv('./datasets/titanic_test.csv')\n",
    "y_test = pd.read_csv('./datasets/gender_submission.csv')\n",
    "y_test = y_test['Survived']\n",
    "\n",
    "from sklearn.preprocessing import LabelEncoder\n",
    "def fillna(df):\n",
    "    df['Age'].fillna(df['Age'].mean(), inplace=True)\n",
    "    df['Cabin'].fillna('N', inplace=True)\n",
    "    df['Embarked'].fillna('N', inplace=True)\n",
    "    df['Fare'].fillna(0, inplace=True)\n",
    "    return df\n",
    "\n",
    "#머신러닝 알고리즘에 불필요한 속성 제거\n",
    "def drop_features(df):\n",
    "    df.drop(['PassengerId', 'Name', 'SibSp', 'Parch', 'Ticket', 'Fare'], axis=1, inplace=True)\n",
    "    return df\n",
    "\n",
    "# 레이블 인코딩 수행\n",
    "def format_features(df):\n",
    "    df['Cabin'] = df['Cabin'].str[:1]\n",
    "    features = ['Cabin', 'Sex', 'Embarked']\n",
    "    for feature in features:\n",
    "        le = LabelEncoder()\n",
    "        le = le.fit(df[feature])\n",
    "        df[feature] = le.transform(df[feature])\n",
    "    return df\n",
    "\n",
    "# 앞에서 설정한 Data Preprocessing 함수 호출\n",
    "def transform_features(df):\n",
    "    df = fillna(df)\n",
    "    df = drop_features(df)\n",
    "    df = format_features(df)\n",
    "    return df\n",
    "\n",
    "\n",
    "tt_df_1 = transform_features(tt_df)\n",
    "tt_test_df_1 = transform_features(tt_test_df)\n",
    "\n",
    "label = tt_df_1['Survived']\n",
    "features = tt_df_1.drop(columns='Survived')\n",
    "\n",
    "\n",
    "lr_clf=LogisticRegression()\n",
    "lr_clf.fit(features, label)\n",
    "lr_pred=lr_clf.predict(tt_test_df_1)\n",
    "\n",
    "pred_proba=lr_clf.predict_proba(tt_test_df_1)\n",
    "print(pred_proba[:3])\n",
    "print(lr_pred[:3])\n",
    "\n"
   ]
  },
  {
   "cell_type": "code",
   "execution_count": 56,
   "id": "46b9d172",
   "metadata": {
    "ExecuteTime": {
     "end_time": "2023-01-31T09:36:09.494894Z",
     "start_time": "2023-01-31T09:36:09.479887Z"
    }
   },
   "outputs": [
    {
     "name": "stdout",
     "output_type": "stream",
     "text": [
      "0.9287925696594427\n"
     ]
    }
   ],
   "source": [
    "from sklearn.metrics import f1_score\n",
    "f1=f1_score(y_test, lr_pred)\n",
    "print(f1)\n"
   ]
  },
  {
   "cell_type": "code",
   "execution_count": null,
   "id": "6b399a53",
   "metadata": {},
   "outputs": [],
   "source": []
  },
  {
   "cell_type": "code",
   "execution_count": 57,
   "id": "333fe418",
   "metadata": {
    "ExecuteTime": {
     "end_time": "2023-01-31T09:36:10.784773Z",
     "start_time": "2023-01-31T09:36:10.771149Z"
    }
   },
   "outputs": [],
   "source": [
    "\n",
    "def get_clf_eval(y_test,pred):\n",
    "    confusion=confusion_matrix(y_test,pred)\n",
    "    accuracy=accuracy_score(y_test,pred)\n",
    "    precision = precision_score(y_test,pred)\n",
    "    recall = recall_score(y_test,pred)\n",
    "    f1=f1_score(y_test, pred)\n",
    "    print(confusion)\n",
    "    print(accuracy, precision, recall,f1)\n",
    "    \n",
    "thresholds=[0.4, 0.45, 0.50, 0.55, 0.60]\n",
    "pred_proba=lr_clf.predict_proba(tt_test_df_1)\n",
    "# get_eval_by_threshold(y_test,pred_proba[:,1].reshape(-1,1), thresholds)\n",
    "\n",
    "\n",
    "\n",
    "\n",
    "\n",
    "\n"
   ]
  },
  {
   "cell_type": "code",
   "execution_count": 58,
   "id": "f231394c",
   "metadata": {
    "ExecuteTime": {
     "end_time": "2023-01-31T09:36:12.808786Z",
     "start_time": "2023-01-31T09:36:12.782874Z"
    }
   },
   "outputs": [
    {
     "name": "stdout",
     "output_type": "stream",
     "text": [
      "[  1   6  11  16  21  26  31  36  41  46  51  56  61  66  71  76  81  86\n",
      "  91  96 101 106]\n",
      "[0.97 0.88 0.83 0.77 0.66 0.63 0.61 0.59 0.57 0.54 0.51 0.41 0.27 0.25\n",
      " 0.22 0.16 0.14 0.13 0.11 0.1  0.1  0.08]\n",
      "[0.    0.    0.    0.    0.008 0.011 0.019 0.034 0.045 0.06  0.075 0.143\n",
      " 0.274 0.327 0.387 0.474 0.545 0.647 0.752 0.797 0.921 0.959]\n",
      "[0.007 0.25  0.414 0.539 0.645 0.724 0.836 0.868 0.882 0.961 0.987 1.\n",
      " 1.    1.    1.    1.    1.    1.    1.    1.    1.    1.   ]\n"
     ]
    }
   ],
   "source": [
    "from sklearn.metrics import roc_curve\n",
    "\n",
    "pred_proba_c1=lr_clf.predict_proba(tt_test_df_1)[:, 1]\n",
    "# pred_proba\n",
    "fprs,tprs,thresholds=roc_curve(y_test,pred_proba_c1)\n",
    "\n",
    "\n",
    "thr_index=np.arange(1, thresholds.shape[0],5)\n",
    "print(thr_index)\n",
    "print(np.round(thresholds[thr_index],2))\n",
    "\n",
    "print(np.round(fprs[thr_index],3))\n",
    "print(np.round(tprs[thr_index],3))\n",
    "\n"
   ]
  },
  {
   "cell_type": "code",
   "execution_count": 59,
   "id": "8e891876",
   "metadata": {
    "ExecuteTime": {
     "end_time": "2023-01-31T09:36:14.258801Z",
     "start_time": "2023-01-31T09:36:13.968723Z"
    }
   },
   "outputs": [
    {
     "data": {
      "image/png": "[encoded data removed]",
      "text/plain": [
       "<Figure size 640x480 with 1 Axes>"
      ]
     },
     "metadata": {},
     "output_type": "display_data"
    }
   ],
   "source": [
    "\n",
    "\n",
    "\n",
    "def roc_curve_plot(y_test, pred_proba):\n",
    "    \n",
    "    fprs, tprs, thresholds=roc_curve(y_test,pred_proba)\n",
    "    \n",
    "    plt.plot(fprs, tprs, label='ROC')\n",
    "    plt.plot([0,1],[0,1], 'k--', label='Random')\n",
    "    \n",
    "    start, end=plt.xlim()\n",
    "    plt.xticks(np.round(np.arange(start, end, 0.1),2))\n",
    "    plt.xlim(0,1);plt.ylim(0,1)\n",
    "    plt.xlabel('FPR(1-Sensitivity)');plt.ylabel('TPR(Recall)')\n",
    "    plt.legend()\n",
    "    plt.show()\n",
    "    \n",
    "roc_curve_plot(y_test, lr_clf.predict_proba(tt_test_df_1)[:,1])\n",
    "\n"
   ]
  },
  {
   "cell_type": "code",
   "execution_count": 38,
   "id": "26763178",
   "metadata": {
    "ExecuteTime": {
     "end_time": "2023-01-31T09:19:11.075980Z",
     "start_time": "2023-01-31T09:19:11.054704Z"
    }
   },
   "outputs": [
    {
     "name": "stdout",
     "output_type": "stream",
     "text": [
      "0.9887712702809656\n"
     ]
    }
   ],
   "source": [
    "from sklearn.metrics import roc_auc_score\n",
    "\n",
    "pred_proba=lr_clf.predict_proba(tt_test_df_1)[:,1]\n",
    "roc_score=roc_auc_score(y_test, pred_proba)\n",
    "print(roc_score)\n"
   ]
  },
  {
   "cell_type": "code",
   "execution_count": null,
   "id": "6be1f729",
   "metadata": {},
   "outputs": [],
   "source": []
  }
 ],
 "metadata": {
  "kernelspec": {
   "display_name": "Python 3 (ipykernel)",
   "language": "python",
   "name": "python3"
  },
  "language_info": {
   "codemirror_mode": {
    "name": "ipython",
    "version": 3
   },
   "file_extension": ".py",
   "mimetype": "text/x-python",
   "name": "python",
   "nbconvert_exporter": "python",
   "pygments_lexer": "ipython3",
   "version": "3.11.1"
  },
  "toc": {
   "base_numbering": 1,
   "nav_menu": {},
   "number_sections": true,
   "sideBar": true,
   "skip_h1_title": false,
   "title_cell": "Table of Contents",
   "title_sidebar": "Contents",
   "toc_cell": false,
   "toc_position": {},
   "toc_section_display": true,
   "toc_window_display": false
  },
  "varInspector": {
   "cols": {
    "lenName": 16,
    "lenType": 16,
    "lenVar": 40
   },
   "kernels_config": {
    "python": {
     "delete_cmd_postfix": "",
     "delete_cmd_prefix": "del ",
     "library": "var_list.py",
     "varRefreshCmd": "print(var_dic_list())"
    },
    "r": {
     "delete_cmd_postfix": ") ",
     "delete_cmd_prefix": "rm(",
     "library": "var_list.r",
     "varRefreshCmd": "cat(var_dic_list()) "
    }
   },
   "types_to_exclude": [
    "module",
    "function",
    "builtin_function_or_method",
    "instance",
    "_Feature"
   ],
   "window_display": false
  }
 },
 "nbformat": 4,
 "nbformat_minor": 5
}
